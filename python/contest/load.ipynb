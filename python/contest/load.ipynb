{
 "cells": [
  {
   "cell_type": "code",
   "execution_count": 1,
   "metadata": {},
   "outputs": [],
   "source": [
    "import os\n",
    "import numpy as np\n",
    "import tensorflow as tf\n",
    "import pandas as pd"
   ]
  },
  {
   "cell_type": "code",
   "execution_count": null,
   "metadata": {},
   "outputs": [],
   "source": [
    "with tf.Session() as sess:\n",
    "    saver = tf.train.import_meta_graph( 'model/.meta' )\n",
    "    saver.restore( sess, \"model/\" )\n",
    "    \n",
    "    graph = tf.get_default_graph()\n",
    "    file_dir = 'guangdong_round1_test_a_20180916'\n",
    "    \n",
    "    all_image_name = []\n",
    "    all_pred = []\n",
    "    \n",
    "    for i in range( 440 ):\n",
    "        image_name = str( i ) + '.jpg'\n",
    "        file_name =  file_dir + '/' + image_name\n",
    "        image = tf.cast( file_name, tf.string )\n",
    "        image_contents = tf.read_file( image )\n",
    "        image = tf.image.decode_jpeg(image_contents, channels=3) \n",
    "        image = tf.image.resize_image_with_crop_or_pad(image, 384, 384)\n",
    "        #image = tf.expand_dims( image, 0 )\n",
    "        image = tf.image.per_image_standardization(image)\n",
    "        image_end = tf.reshape( image, [1, 384, 384, 3] )\n",
    "        \n",
    "        sess.run( image_end )\n",
    "        feed_dict = { \"x:0\":image_end.eval(), \"keep_prob:0\":1 }\n",
    "        pred = graph.get_tensor_by_name( \"predictions:0\" )\n",
    "        prediction = sess.run( pred, feed_dict )\n",
    "        all_image_name.append( image_name )\n",
    "        all_pred.append( prediction[0] )\n",
    "        if i % 10 == 0:\n",
    "            print( i )"
   ]
  },
  {
   "cell_type": "code",
   "execution_count": null,
   "metadata": {},
   "outputs": [],
   "source": []
  },
  {
   "cell_type": "code",
   "execution_count": null,
   "metadata": {},
   "outputs": [],
   "source": [
    "dataframe = pd.DataFrame( {'1': all_image_name, '2': all_pred} )\n",
    "dataframe.to_csv( \"test.csv\" , index=False, sep = ',' )"
   ]
  },
  {
   "cell_type": "code",
   "execution_count": null,
   "metadata": {},
   "outputs": [],
   "source": []
  },
  {
   "cell_type": "code",
   "execution_count": null,
   "metadata": {},
   "outputs": [],
   "source": []
  },
  {
   "cell_type": "code",
   "execution_count": null,
   "metadata": {},
   "outputs": [],
   "source": []
  }
 ],
 "metadata": {
  "kernelspec": {
   "display_name": "Python 2",
   "language": "python",
   "name": "python2"
  },
  "language_info": {
   "codemirror_mode": {
    "name": "ipython",
    "version": 2
   },
   "file_extension": ".py",
   "mimetype": "text/x-python",
   "name": "python",
   "nbconvert_exporter": "python",
   "pygments_lexer": "ipython2",
   "version": "2.7.15"
  }
 },
 "nbformat": 4,
 "nbformat_minor": 2
}
